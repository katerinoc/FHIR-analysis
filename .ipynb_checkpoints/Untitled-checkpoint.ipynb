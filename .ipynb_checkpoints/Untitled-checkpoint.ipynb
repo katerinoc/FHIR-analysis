{
 "cells": [
  {
   "cell_type": "code",
   "execution_count": 1,
   "metadata": {},
   "outputs": [],
   "source": [
    "import pandas as pd\n",
    "import matplotlib.pyplot as plt\n",
    "import seaborn as sns"
   ]
  },
  {
   "cell_type": "code",
   "execution_count": 2,
   "metadata": {},
   "outputs": [
    {
     "data": {
      "text/plain": [
       "(206, 4)"
      ]
     },
     "execution_count": 2,
     "metadata": {},
     "output_type": "execute_result"
    }
   ],
   "source": [
    "data = pd.read_csv(\"Fhir(1).csv\")\n",
    "data.shape\n"
   ]
  },
  {
   "cell_type": "code",
   "execution_count": 3,
   "metadata": {},
   "outputs": [
    {
     "data": {
      "text/html": [
       "<div>\n",
       "<style scoped>\n",
       "    .dataframe tbody tr th:only-of-type {\n",
       "        vertical-align: middle;\n",
       "    }\n",
       "\n",
       "    .dataframe tbody tr th {\n",
       "        vertical-align: top;\n",
       "    }\n",
       "\n",
       "    .dataframe thead th {\n",
       "        text-align: right;\n",
       "    }\n",
       "</style>\n",
       "<table border=\"1\" class=\"dataframe\">\n",
       "  <thead>\n",
       "    <tr style=\"text-align: right;\">\n",
       "      <th></th>\n",
       "      <th>year</th>\n",
       "      <th>active</th>\n",
       "      <th>name</th>\n",
       "      <th>country</th>\n",
       "    </tr>\n",
       "  </thead>\n",
       "  <tbody>\n",
       "    <tr>\n",
       "      <th>0</th>\n",
       "      <td>2015</td>\n",
       "      <td>Yes</td>\n",
       "      <td>Argonaut Phase 2 Implementation &amp; Testing - De...</td>\n",
       "      <td>US</td>\n",
       "    </tr>\n",
       "    <tr>\n",
       "      <th>1</th>\n",
       "      <td>2010</td>\n",
       "      <td>Yes</td>\n",
       "      <td>SMART Health IT</td>\n",
       "      <td>US</td>\n",
       "    </tr>\n",
       "    <tr>\n",
       "      <th>2</th>\n",
       "      <td>2015</td>\n",
       "      <td>Yes</td>\n",
       "      <td>HL7 FHIR Conformance and Interoperability Test...</td>\n",
       "      <td>US</td>\n",
       "    </tr>\n",
       "    <tr>\n",
       "      <th>3</th>\n",
       "      <td>2015</td>\n",
       "      <td>Yes</td>\n",
       "      <td>AEGIS WildFHIR Client and Server</td>\n",
       "      <td>US</td>\n",
       "    </tr>\n",
       "    <tr>\n",
       "      <th>4</th>\n",
       "      <td>2015</td>\n",
       "      <td>Yes</td>\n",
       "      <td>Semantic Interoperability Framework (SIF)</td>\n",
       "      <td>US</td>\n",
       "    </tr>\n",
       "    <tr>\n",
       "      <th>5</th>\n",
       "      <td>2015</td>\n",
       "      <td>Yes</td>\n",
       "      <td>Semantic Interoperability Framework (SIF)</td>\n",
       "      <td>US</td>\n",
       "    </tr>\n",
       "    <tr>\n",
       "      <th>6</th>\n",
       "      <td>2014</td>\n",
       "      <td>Yes</td>\n",
       "      <td>Crucible: A FHIR Testing Tool</td>\n",
       "      <td>US</td>\n",
       "    </tr>\n",
       "    <tr>\n",
       "      <th>7</th>\n",
       "      <td>2013</td>\n",
       "      <td>Yes</td>\n",
       "      <td>PatientPing: Real-Time ADT Notifications</td>\n",
       "      <td>US</td>\n",
       "    </tr>\n",
       "    <tr>\n",
       "      <th>8</th>\n",
       "      <td>2014</td>\n",
       "      <td>Yes</td>\n",
       "      <td>Advancing Functional Interoperability through ...</td>\n",
       "      <td>US</td>\n",
       "    </tr>\n",
       "    <tr>\n",
       "      <th>9</th>\n",
       "      <td>2010</td>\n",
       "      <td>Yes</td>\n",
       "      <td>Allscripts Developer Program (ADP)</td>\n",
       "      <td>US</td>\n",
       "    </tr>\n",
       "    <tr>\n",
       "      <th>10</th>\n",
       "      <td>2015</td>\n",
       "      <td>Yes</td>\n",
       "      <td>Carequality Interoperability Framework</td>\n",
       "      <td>US</td>\n",
       "    </tr>\n",
       "    <tr>\n",
       "      <th>11</th>\n",
       "      <td>2017</td>\n",
       "      <td>Yes</td>\n",
       "      <td>FHIR-Based Healthcare Provider Directory</td>\n",
       "      <td>US</td>\n",
       "    </tr>\n",
       "    <tr>\n",
       "      <th>12</th>\n",
       "      <td>2012</td>\n",
       "      <td>Yes</td>\n",
       "      <td>The Sequoia Project</td>\n",
       "      <td>US</td>\n",
       "    </tr>\n",
       "    <tr>\n",
       "      <th>13</th>\n",
       "      <td>2009</td>\n",
       "      <td>Yes</td>\n",
       "      <td>eHealth Exchange</td>\n",
       "      <td>US</td>\n",
       "    </tr>\n",
       "    <tr>\n",
       "      <th>14</th>\n",
       "      <td>2006</td>\n",
       "      <td>Yes</td>\n",
       "      <td>Total Interoperability Today, with MedKaz®</td>\n",
       "      <td>US</td>\n",
       "    </tr>\n",
       "  </tbody>\n",
       "</table>\n",
       "</div>"
      ],
      "text/plain": [
       "    year active                                               name country\n",
       "0   2015    Yes  Argonaut Phase 2 Implementation & Testing - De...      US\n",
       "1   2010    Yes                                    SMART Health IT      US\n",
       "2   2015    Yes  HL7 FHIR Conformance and Interoperability Test...      US\n",
       "3   2015    Yes                   AEGIS WildFHIR Client and Server      US\n",
       "4   2015    Yes          Semantic Interoperability Framework (SIF)      US\n",
       "5   2015    Yes          Semantic Interoperability Framework (SIF)      US\n",
       "6   2014    Yes                      Crucible: A FHIR Testing Tool      US\n",
       "7   2013    Yes           PatientPing: Real-Time ADT Notifications      US\n",
       "8   2014    Yes  Advancing Functional Interoperability through ...      US\n",
       "9   2010    Yes                 Allscripts Developer Program (ADP)      US\n",
       "10  2015    Yes             Carequality Interoperability Framework      US\n",
       "11  2017    Yes           FHIR-Based Healthcare Provider Directory      US\n",
       "12  2012    Yes                                The Sequoia Project      US\n",
       "13  2009    Yes                                   eHealth Exchange      US\n",
       "14  2006    Yes         Total Interoperability Today, with MedKaz®      US"
      ]
     },
     "execution_count": 3,
     "metadata": {},
     "output_type": "execute_result"
    }
   ],
   "source": [
    "data.head(15)"
   ]
  },
  {
   "cell_type": "markdown",
   "metadata": {},
   "source": [
    "Выведем общее количество проектов по странам:"
   ]
  },
  {
   "cell_type": "code",
   "execution_count": 4,
   "metadata": {},
   "outputs": [
    {
     "data": {
      "text/plain": [
       "(array([0, 1, 2, 3, 4]), <a list of 5 Text xticklabel objects>)"
      ]
     },
     "execution_count": 4,
     "metadata": {},
     "output_type": "execute_result"
    },
    {
     "data": {
      "image/png": "[encoded data removed]",
      "text/plain": [
       "<Figure size 576x360 with 1 Axes>"
      ]
     },
     "metadata": {
      "needs_background": "light"
     },
     "output_type": "display_data"
    }
   ],
   "source": [
    "fig,ax=plt.subplots(figsize=(8,5))\n",
    "x=data.country.value_counts(ascending=True)\n",
    "x.plot( kind='bar',width = 0.5,color= 'firebrick',zorder=2,ax=ax)\n",
    "\n",
    "for i in range(len(x)):\n",
    "    ax.text(i,x[i],x[i],horizontalalignment='center',verticalalignment='bottom',fontsize=12)\n",
    "plt.xlabel('страна')\n",
    "ax.set_title('Все проекты',fontdict={'size':22})\n",
    "plt.ylabel('количество проектов')\n",
    "plt.xticks(rotation=0,fontsize=12)"
   ]
  },
  {
   "cell_type": "code",
   "execution_count": 5,
   "metadata": {},
   "outputs": [
    {
     "data": {
      "text/plain": [
       "Russia           3\n",
       "Australia        7\n",
       "Netherlands     14\n",
       "Germany         26\n",
       "US             156\n",
       "Name: country, dtype: int64"
      ]
     },
     "execution_count": 5,
     "metadata": {},
     "output_type": "execute_result"
    }
   ],
   "source": [
    "data.country.value_counts(ascending=True)"
   ]
  },
  {
   "cell_type": "markdown",
   "metadata": {},
   "source": [
    "Данный график показывает число активных проектов в США по годам:"
   ]
  },
  {
   "cell_type": "code",
   "execution_count": 6,
   "metadata": {},
   "outputs": [],
   "source": [
    "data_active=data[data.active=='Yes'].copy()"
   ]
  },
  {
   "cell_type": "code",
   "execution_count": 7,
   "metadata": {},
   "outputs": [],
   "source": [
    "data_active['year'] = data_active.year.astype('str')"
   ]
  },
  {
   "cell_type": "code",
   "execution_count": 8,
   "metadata": {},
   "outputs": [
    {
     "data": {
      "text/plain": [
       "(array([ 0,  1,  2,  3,  4,  5,  6,  7,  8,  9, 10, 11]),\n",
       " <a list of 12 Text xticklabel objects>)"
      ]
     },
     "execution_count": 8,
     "metadata": {},
     "output_type": "execute_result"
    },
    {
     "data": {
      "image/png": "[encoded data removed]",
      "text/plain": [
       "<Figure size 576x360 with 1 Axes>"
      ]
     },
     "metadata": {
      "needs_background": "light"
     },
     "output_type": "display_data"
    }
   ],
   "source": [
    "x=data_active[data_active.country == 'US'].year.value_counts().sort_index()\n",
    "\n",
    "\n",
    "fig,ax=plt.subplots(figsize=(8,5))\n",
    "x.plot( kind='bar',width = 0.5,color= 'firebrick',zorder=2,ax=ax)\n",
    "\n",
    "for i in range(len(x)):\n",
    "    ax.text(i,x[i],x[i],horizontalalignment='center',verticalalignment='bottom',fontsize=12)\n",
    "plt.xlabel('год')\n",
    "ax.set_title('Активные проекты в США',fontdict={'size':22})\n",
    "plt.ylabel('количество проектов')\n",
    "ax.set( ylim=(0, 35))\n",
    "plt.xticks(rotation=0,fontsize=12)"
   ]
  },
  {
   "cell_type": "code",
   "execution_count": 9,
   "metadata": {},
   "outputs": [],
   "source": [
    "data_activeUS=data_active[data_active.country == 'US'].year.value_counts().sort_index()"
   ]
  },
  {
   "cell_type": "markdown",
   "metadata": {},
   "source": [
    "Данный график показывает число активных проектов в Австралии по годам:"
   ]
  },
  {
   "cell_type": "code",
   "execution_count": 10,
   "metadata": {},
   "outputs": [
    {
     "data": {
      "text/plain": [
       "(array([0, 1, 2, 3, 4]), <a list of 5 Text xticklabel objects>)"
      ]
     },
     "execution_count": 10,
     "metadata": {},
     "output_type": "execute_result"
    },
    {
     "data": {
      "image/png": "[encoded data removed]",
      "text/plain": [
       "<Figure size 576x360 with 1 Axes>"
      ]
     },
     "metadata": {
      "needs_background": "light"
     },
     "output_type": "display_data"
    }
   ],
   "source": [
    "x1=data_active[data_active.country == 'Australia'].year.value_counts().sort_index()\n",
    "\n",
    "\n",
    "fig,ax=plt.subplots(figsize=(8,5))\n",
    "x1.plot( kind='bar',width = 0.5,color= 'firebrick',zorder=2,ax=ax)\n",
    "\n",
    "for i in range(len(x1)):\n",
    "    ax.text(i,x1[i],x1[i],horizontalalignment='center',verticalalignment='bottom',fontsize=12)\n",
    "plt.xlabel('год')\n",
    "ax.set_title('Активные проекты в Австралии',fontdict={'size':22})\n",
    "plt.ylabel('количество проектов')\n",
    "ax.set( ylim=(0, 5))\n",
    "plt.xticks(rotation=0,fontsize=12)"
   ]
  },
  {
   "cell_type": "code",
   "execution_count": 11,
   "metadata": {},
   "outputs": [],
   "source": [
    "data_activeAU = data_active[data_active.country == 'Australia'].year.value_counts().sort_index()"
   ]
  },
  {
   "cell_type": "markdown",
   "metadata": {},
   "source": [
    "Данный график показывает число активных проектов в Германии по годам:"
   ]
  },
  {
   "cell_type": "code",
   "execution_count": 12,
   "metadata": {},
   "outputs": [
    {
     "data": {
      "text/plain": [
       "(array([0, 1, 2, 3, 4, 5, 6, 7]), <a list of 8 Text xticklabel objects>)"
      ]
     },
     "execution_count": 12,
     "metadata": {},
     "output_type": "execute_result"
    },
    {
     "data": {
      "image/png": "[encoded data removed]",
      "text/plain": [
       "<Figure size 576x360 with 1 Axes>"
      ]
     },
     "metadata": {
      "needs_background": "light"
     },
     "output_type": "display_data"
    }
   ],
   "source": [
    "x=data_active[data_active.country == 'Germany'].year.value_counts().sort_index()\n",
    "\n",
    "\n",
    "fig,ax=plt.subplots(figsize=(8,5))\n",
    "x.plot( kind='bar',width = 0.5,color= 'firebrick',zorder=2,ax=ax)\n",
    "\n",
    "for i in range(len(x)):\n",
    "    ax.text(i,x[i],x[i],horizontalalignment='center',verticalalignment='bottom',fontsize=12)\n",
    "plt.xlabel('год')\n",
    "ax.set_title('Активные проекты в Германии',fontdict={'size':22})\n",
    "plt.ylabel('количество проектов')\n",
    "ax.set( ylim=(0, 15))\n",
    "plt.xticks(rotation=0,fontsize=12)"
   ]
  },
  {
   "cell_type": "code",
   "execution_count": 13,
   "metadata": {},
   "outputs": [],
   "source": [
    "data_activeGermany=data_active[data_active.country == 'Germany'].year.value_counts().sort_index()"
   ]
  },
  {
   "cell_type": "markdown",
   "metadata": {},
   "source": [
    "Данный график показывает число активных проектов в Нидерландах по годам:"
   ]
  },
  {
   "cell_type": "code",
   "execution_count": 14,
   "metadata": {},
   "outputs": [
    {
     "data": {
      "text/plain": [
       "(array([0, 1, 2, 3]), <a list of 4 Text xticklabel objects>)"
      ]
     },
     "execution_count": 14,
     "metadata": {},
     "output_type": "execute_result"
    },
    {
     "data": {
      "image/png": "[encoded data removed]",
      "text/plain": [
       "<Figure size 576x360 with 1 Axes>"
      ]
     },
     "metadata": {
      "needs_background": "light"
     },
     "output_type": "display_data"
    }
   ],
   "source": [
    "x=data_active[data_active.country == 'Netherlands'].year.value_counts().sort_index()\n",
    "\n",
    "\n",
    "fig,ax=plt.subplots(figsize=(8,5))\n",
    "x.plot( kind='bar',width = 0.5,color= 'firebrick',zorder=2,ax=ax)\n",
    "\n",
    "for i in range(len(x)):\n",
    "    ax.text(i,x[i],x[i],horizontalalignment='center',verticalalignment='bottom',fontsize=12)\n",
    "plt.xlabel('год')\n",
    "ax.set_title('Активные проекты в Нидерландах',fontdict={'size':22})\n",
    "plt.ylabel('количество проектов')\n",
    "ax.set( ylim=(0, 10))\n",
    "plt.xticks(rotation=0,fontsize=12)"
   ]
  },
  {
   "cell_type": "code",
   "execution_count": 15,
   "metadata": {},
   "outputs": [],
   "source": [
    "data_activeNetherlands=data_active[data_active.country == 'Netherlands'].year.value_counts().sort_index()"
   ]
  },
  {
   "cell_type": "markdown",
   "metadata": {},
   "source": [
    "Данный график показывает число активных проектов в России по годам:"
   ]
  },
  {
   "cell_type": "code",
   "execution_count": 16,
   "metadata": {},
   "outputs": [
    {
     "data": {
      "text/plain": [
       "(array([0, 1]), <a list of 2 Text xticklabel objects>)"
      ]
     },
     "execution_count": 16,
     "metadata": {},
     "output_type": "execute_result"
    },
    {
     "data": {
      "image/png": "[encoded data removed]",
      "text/plain": [
       "<Figure size 576x360 with 1 Axes>"
      ]
     },
     "metadata": {
      "needs_background": "light"
     },
     "output_type": "display_data"
    }
   ],
   "source": [
    "x=data_active[data_active.country == 'Russia'].year.value_counts().sort_index()\n",
    "\n",
    "\n",
    "fig,ax=plt.subplots(figsize=(8,5))\n",
    "x.plot( kind='bar',width = 0.5,color= 'firebrick',zorder=2,ax=ax)\n",
    "\n",
    "for i in range(len(x)):\n",
    "    ax.text(i,x[i],x[i],horizontalalignment='center',verticalalignment='bottom',fontsize=12)\n",
    "plt.xlabel('год')\n",
    "ax.set_title('Активные проекты в России',fontdict={'size':22})\n",
    "plt.ylabel('количество проектов')\n",
    "ax.set( ylim=(0, 5))\n",
    "plt.xticks(rotation=0,fontsize=12)"
   ]
  },
  {
   "cell_type": "code",
   "execution_count": 17,
   "metadata": {},
   "outputs": [],
   "source": [
    "data_activeRussia=data_active[data_active.country == 'Russia'].year.value_counts().sort_index()"
   ]
  },
  {
   "cell_type": "markdown",
   "metadata": {},
   "source": [
    "Данный график показывает число завершенных проектов в США по годам:"
   ]
  },
  {
   "cell_type": "code",
   "execution_count": 18,
   "metadata": {},
   "outputs": [],
   "source": [
    "data_non_active=data[data.active=='No'].copy()\n",
    "data_non_active['year']= data_non_active.year.astype('str')\n"
   ]
  },
  {
   "cell_type": "code",
   "execution_count": 19,
   "metadata": {},
   "outputs": [
    {
     "data": {
      "text/plain": [
       "(array([0, 1, 2, 3, 4, 5, 6]), <a list of 7 Text xticklabel objects>)"
      ]
     },
     "execution_count": 19,
     "metadata": {},
     "output_type": "execute_result"
    },
    {
     "data": {
      "image/png": "[encoded data removed]",
      "text/plain": [
       "<Figure size 576x360 with 1 Axes>"
      ]
     },
     "metadata": {
      "needs_background": "light"
     },
     "output_type": "display_data"
    }
   ],
   "source": [
    "x=data_non_active[data_non_active.country == 'US'].year.value_counts().sort_index()\n",
    "\n",
    "\n",
    "fig,ax=plt.subplots(figsize=(8,5))\n",
    "x.plot( kind='bar',width = 0.5,color= 'firebrick',zorder=2,ax=ax)\n",
    "\n",
    "for i in range(len(x)):\n",
    "    ax.text(i,x[i],x[i],horizontalalignment='center',verticalalignment='bottom',fontsize=12)\n",
    "plt.xlabel('год')\n",
    "ax.set_title('Завершенные проекты в США',fontdict={'size':22})\n",
    "plt.ylabel('количество проектов')\n",
    "ax.set( ylim=(0, 20))\n",
    "plt.xticks(rotation=0,fontsize=12)"
   ]
  },
  {
   "cell_type": "code",
   "execution_count": 20,
   "metadata": {},
   "outputs": [
    {
     "data": {
      "text/plain": [
       "2014     1\n",
       "2015     6\n",
       "2016    13\n",
       "2017    14\n",
       "2018     6\n",
       "2019     2\n",
       "2020     3\n",
       "Name: year, dtype: int64"
      ]
     },
     "execution_count": 20,
     "metadata": {},
     "output_type": "execute_result"
    }
   ],
   "source": [
    "data_non_active[data_non_active.country == 'US'].year.value_counts().sort_index()"
   ]
  },
  {
   "cell_type": "markdown",
   "metadata": {},
   "source": [
    "Данный график показывает число завершенных проектов в Австралии по годам:"
   ]
  },
  {
   "cell_type": "code",
   "execution_count": 21,
   "metadata": {},
   "outputs": [
    {
     "data": {
      "text/plain": [
       "(array([0]), <a list of 1 Text xticklabel objects>)"
      ]
     },
     "execution_count": 21,
     "metadata": {},
     "output_type": "execute_result"
    },
    {
     "data": {
      "image/png": "[encoded data removed]",
      "text/plain": [
       "<Figure size 576x360 with 1 Axes>"
      ]
     },
     "metadata": {
      "needs_background": "light"
     },
     "output_type": "display_data"
    }
   ],
   "source": [
    "x=data_non_active[data_non_active.country == 'Australia'].year.value_counts().sort_index()\n",
    "\n",
    "\n",
    "fig,ax=plt.subplots(figsize=(8,5))\n",
    "x.plot( kind='bar',width = 0.5,color= 'firebrick',zorder=2,ax=ax)\n",
    "\n",
    "for i in range(len(x)):\n",
    "    ax.text(i,x[i],x[i],horizontalalignment='center',verticalalignment='bottom',fontsize=12)\n",
    "plt.xlabel('год')\n",
    "ax.set_title('Завершенные проекты в Австралии',fontdict={'size':22})\n",
    "plt.ylabel('количество проектов')\n",
    "ax.set( ylim=(0, 5))\n",
    "plt.xticks(rotation=0,fontsize=12)"
   ]
  },
  {
   "cell_type": "code",
   "execution_count": 22,
   "metadata": {},
   "outputs": [
    {
     "data": {
      "text/plain": [
       "2017    1\n",
       "Name: year, dtype: int64"
      ]
     },
     "execution_count": 22,
     "metadata": {},
     "output_type": "execute_result"
    }
   ],
   "source": [
    "data_non_active[data_non_active.country == 'Australia'].year.value_counts().sort_index()"
   ]
  },
  {
   "cell_type": "markdown",
   "metadata": {},
   "source": [
    "Данный график показывает число завершенных проектов в Германии по годам:"
   ]
  },
  {
   "cell_type": "code",
   "execution_count": 23,
   "metadata": {},
   "outputs": [
    {
     "data": {
      "text/plain": [
       "(array([0, 1]), <a list of 2 Text xticklabel objects>)"
      ]
     },
     "execution_count": 23,
     "metadata": {},
     "output_type": "execute_result"
    },
    {
     "data": {
      "image/png": "[encoded data removed]",
      "text/plain": [
       "<Figure size 576x360 with 1 Axes>"
      ]
     },
     "metadata": {
      "needs_background": "light"
     },
     "output_type": "display_data"
    }
   ],
   "source": [
    "x=data_non_active[data_non_active.country == 'Germany'].year.value_counts().sort_index()\n",
    "\n",
    "\n",
    "fig,ax=plt.subplots(figsize=(8,5))\n",
    "x.plot( kind='bar',width = 0.5,color= 'firebrick',zorder=2,ax=ax)\n",
    "\n",
    "for i in range(len(x)):\n",
    "    ax.text(i,x[i],x[i],horizontalalignment='center',verticalalignment='bottom',fontsize=12)\n",
    "plt.xlabel('год')\n",
    "ax.set_title('Завершенные проекты в Германии',fontdict={'size':22})\n",
    "plt.ylabel('количество проектов')\n",
    "ax.set( ylim=(0, 5))\n",
    "plt.xticks(rotation=0,fontsize=12)"
   ]
  },
  {
   "cell_type": "code",
   "execution_count": 24,
   "metadata": {},
   "outputs": [
    {
     "data": {
      "text/plain": [
       "2018    1\n",
       "2019    1\n",
       "Name: year, dtype: int64"
      ]
     },
     "execution_count": 24,
     "metadata": {},
     "output_type": "execute_result"
    }
   ],
   "source": [
    "data_non_active[data_non_active.country == 'Germany'].year.value_counts().sort_index()"
   ]
  },
  {
   "cell_type": "markdown",
   "metadata": {},
   "source": [
    "Данный график показывает число завершенных проектов в Нидерландах по годам:"
   ]
  },
  {
   "cell_type": "code",
   "execution_count": 25,
   "metadata": {},
   "outputs": [
    {
     "data": {
      "text/plain": [
       "(array([0, 1, 2, 3]), <a list of 4 Text xticklabel objects>)"
      ]
     },
     "execution_count": 25,
     "metadata": {},
     "output_type": "execute_result"
    },
    {
     "data": {
      "image/png": "[encoded data removed]",
      "text/plain": [
       "<Figure size 576x360 with 1 Axes>"
      ]
     },
     "metadata": {
      "needs_background": "light"
     },
     "output_type": "display_data"
    }
   ],
   "source": [
    "x=data_non_active[data_non_active.country == 'Netherlands'].year.value_counts().sort_index()\n",
    "\n",
    "\n",
    "fig,ax=plt.subplots(figsize=(8,5))\n",
    "x.plot( kind='bar',width = 0.5,color= 'firebrick',zorder=2,ax=ax)\n",
    "\n",
    "for i in range(len(x)):\n",
    "    ax.text(i,x[i],x[i],horizontalalignment='center',verticalalignment='bottom',fontsize=12)\n",
    "plt.xlabel('год')\n",
    "ax.set_title('Завершенные проекты в Нидерландах',fontdict={'size':22})\n",
    "plt.ylabel('количество проектов')\n",
    "ax.set( ylim=(0, 5))\n",
    "plt.xticks(rotation=0,fontsize=12)"
   ]
  },
  {
   "cell_type": "code",
   "execution_count": 26,
   "metadata": {},
   "outputs": [
    {
     "data": {
      "text/plain": [
       "2016    1\n",
       "2017    1\n",
       "2018    3\n",
       "2019    1\n",
       "Name: year, dtype: int64"
      ]
     },
     "execution_count": 26,
     "metadata": {},
     "output_type": "execute_result"
    }
   ],
   "source": [
    "data_non_active[data_non_active.country == 'Netherlands'].year.value_counts().sort_index()"
   ]
  },
  {
   "cell_type": "code",
   "execution_count": 88,
   "metadata": {},
   "outputs": [
    {
     "data": {
      "text/plain": [
       "(array([0]), <a list of 1 Text xticklabel objects>)"
      ]
     },
     "execution_count": 88,
     "metadata": {},
     "output_type": "execute_result"
    },
    {
     "data": {
      "image/png": "[encoded data removed]",
      "text/plain": [
       "<Figure size 576x360 with 1 Axes>"
      ]
     },
     "metadata": {
      "needs_background": "light"
     },
     "output_type": "display_data"
    }
   ],
   "source": [
    "x=data_non_active[data_non_active.country == 'Russia'].year.value_counts().sort_index()\n",
    "\n",
    "\n",
    "fig,ax=plt.subplots(figsize=(8,5))\n",
    "x.plot( kind='bar',width = 0.5,color= 'firebrick',zorder=2,ax=ax)\n",
    "\n",
    "for i in range(len(x)):\n",
    "    ax.text(i,x[i],x[i],horizontalalignment='center',verticalalignment='bottom',fontsize=12)\n",
    "plt.xlabel('год')\n",
    "ax.set_title('Завершенные проекты в России',fontdict={'size':22})\n",
    "plt.ylabel('количество проектов')\n",
    "ax.set( ylim=(0, 5))\n",
    "plt.xticks(rotation=0,fontsize=12)"
   ]
  },
  {
   "cell_type": "markdown",
   "metadata": {},
   "source": [
    "Данный график показывает число активных проектов по странам по годам:"
   ]
  },
  {
   "cell_type": "code",
   "execution_count": 27,
   "metadata": {},
   "outputs": [
    {
     "data": {
      "image/png": "[encoded data removed]",
      "text/plain": [
       "<Figure size 576x360 with 1 Axes>"
      ]
     },
     "metadata": {
      "needs_background": "light"
     },
     "output_type": "display_data"
    }
   ],
   "source": [
    "fig,ax = plt.subplots( figsize=(8, 5))\n",
    "sns.countplot(x=data_active['year'], data=data_active, hue=data_active['country'],ax=ax)\n",
    "\n",
    " \n",
    "ax.set_title('Активные проекты по годам',fontdict={'size':22})\n",
    "plt.xlabel('год')\n",
    "plt.ylabel('количество проектов')\n",
    "plt.xticks(rotation=0,fontsize=12)\n",
    "plt.legend(loc='upper left')\n",
    "plt.show()"
   ]
  },
  {
   "cell_type": "code",
   "execution_count": 28,
   "metadata": {},
   "outputs": [
    {
     "data": {
      "text/plain": [
       "2018    41\n",
       "2019    31\n",
       "2020    30\n",
       "2015    14\n",
       "2017    10\n",
       "2016    10\n",
       "2014     5\n",
       "2010     3\n",
       "2013     3\n",
       "2012     2\n",
       "2009     1\n",
       "2006     1\n",
       "Name: year, dtype: int64"
      ]
     },
     "execution_count": 28,
     "metadata": {},
     "output_type": "execute_result"
    }
   ],
   "source": [
    "data_active['year'].value_counts()"
   ]
  },
  {
   "cell_type": "markdown",
   "metadata": {},
   "source": [
    "Данный график показывает число завершенных проектов по странам по годам:"
   ]
  },
  {
   "cell_type": "code",
   "execution_count": 29,
   "metadata": {},
   "outputs": [
    {
     "data": {
      "image/png": "[encoded data removed]",
      "text/plain": [
       "<Figure size 576x360 with 1 Axes>"
      ]
     },
     "metadata": {
      "needs_background": "light"
     },
     "output_type": "display_data"
    }
   ],
   "source": [
    "fig,ax = plt.subplots( figsize=(8, 5))\n",
    "sns.countplot(x=data_non_active['year'], data=data_non_active, hue=data_non_active['country'],ax=ax)\n",
    "\n",
    "ax.set_title('Завершенные проекты по годам',fontdict={'size':22})\n",
    "plt.xlabel('год')\n",
    "plt.ylabel('количество проектов')\n",
    "plt.xticks(rotation=0,fontsize=12)\n",
    "plt.legend(loc='upper left')\n",
    "plt.show()"
   ]
  },
  {
   "cell_type": "code",
   "execution_count": 99,
   "metadata": {},
   "outputs": [
    {
     "data": {
      "text/plain": [
       "(6, 3)"
      ]
     },
     "execution_count": 99,
     "metadata": {},
     "output_type": "execute_result"
    }
   ],
   "source": [
    "dataRussia = pd.read_csv(\"Fhir(2).csv\")\n",
    "dataRussia.shape"
   ]
  },
  {
   "cell_type": "code",
   "execution_count": 100,
   "metadata": {},
   "outputs": [
    {
     "data": {
      "text/html": [
       "<div>\n",
       "<style scoped>\n",
       "    .dataframe tbody tr th:only-of-type {\n",
       "        vertical-align: middle;\n",
       "    }\n",
       "\n",
       "    .dataframe tbody tr th {\n",
       "        vertical-align: top;\n",
       "    }\n",
       "\n",
       "    .dataframe thead th {\n",
       "        text-align: right;\n",
       "    }\n",
       "</style>\n",
       "<table border=\"1\" class=\"dataframe\">\n",
       "  <thead>\n",
       "    <tr style=\"text-align: right;\">\n",
       "      <th></th>\n",
       "      <th>year</th>\n",
       "      <th>active</th>\n",
       "      <th>project</th>\n",
       "    </tr>\n",
       "  </thead>\n",
       "  <tbody>\n",
       "    <tr>\n",
       "      <th>0</th>\n",
       "      <td>2015</td>\n",
       "      <td>No</td>\n",
       "      <td>Региональный фрагмент единой государственной и...</td>\n",
       "    </tr>\n",
       "    <tr>\n",
       "      <th>1</th>\n",
       "      <td>2017</td>\n",
       "      <td>No</td>\n",
       "      <td>Государственная информационная система в сфере...</td>\n",
       "    </tr>\n",
       "    <tr>\n",
       "      <th>2</th>\n",
       "      <td>2019</td>\n",
       "      <td>No</td>\n",
       "      <td>Региональный фрагмент единой государственной и...</td>\n",
       "    </tr>\n",
       "    <tr>\n",
       "      <th>3</th>\n",
       "      <td>2019</td>\n",
       "      <td>No</td>\n",
       "      <td>Региональный фрагмент единой государственной и...</td>\n",
       "    </tr>\n",
       "    <tr>\n",
       "      <th>4</th>\n",
       "      <td>2018</td>\n",
       "      <td>No</td>\n",
       "      <td>Региональный фрагмент единой государственной и...</td>\n",
       "    </tr>\n",
       "    <tr>\n",
       "      <th>5</th>\n",
       "      <td>2016</td>\n",
       "      <td>No</td>\n",
       "      <td>Модернизация регионального фрагмента единой го...</td>\n",
       "    </tr>\n",
       "  </tbody>\n",
       "</table>\n",
       "</div>"
      ],
      "text/plain": [
       "   year active                                            project\n",
       "0  2015     No  Региональный фрагмент единой государственной и...\n",
       "1  2017     No  Государственная информационная система в сфере...\n",
       "2  2019     No  Региональный фрагмент единой государственной и...\n",
       "3  2019     No  Региональный фрагмент единой государственной и...\n",
       "4  2018     No  Региональный фрагмент единой государственной и...\n",
       "5  2016     No  Модернизация регионального фрагмента единой го..."
      ]
     },
     "execution_count": 100,
     "metadata": {},
     "output_type": "execute_result"
    }
   ],
   "source": [
    "dataRussia"
   ]
  },
  {
   "cell_type": "code",
   "execution_count": 101,
   "metadata": {},
   "outputs": [
    {
     "data": {
      "text/plain": [
       "5"
      ]
     },
     "execution_count": 101,
     "metadata": {},
     "output_type": "execute_result"
    }
   ],
   "source": [
    "len(x)"
   ]
  },
  {
   "cell_type": "code",
   "execution_count": 107,
   "metadata": {},
   "outputs": [
    {
     "data": {
      "text/plain": [
       "(array([0, 1, 2, 3, 4]), <a list of 5 Text xticklabel objects>)"
      ]
     },
     "execution_count": 107,
     "metadata": {},
     "output_type": "execute_result"
    },
    {
     "data": {
      "image/png": "[encoded data removed]",
      "text/plain": [
       "<Figure size 576x360 with 1 Axes>"
      ]
     },
     "metadata": {
      "needs_background": "light"
     },
     "output_type": "display_data"
    }
   ],
   "source": [
    "x=dataRussia['year'].value_counts().sort_index()\n",
    "\n",
    "\n",
    "fig,ax=plt.subplots(figsize=(8,5))\n",
    "x.plot( kind='bar',width = 0.5,color= 'firebrick',zorder=2,ax=ax)\n",
    "\n",
    "\n",
    "plt.xlabel('год')\n",
    "ax.set_title('Завершенные проекты в России компанией Netrika',fontdict={'size':22})\n",
    "plt.ylabel('количество проектов')\n",
    "ax.set( ylim=(0, 5))\n",
    "plt.xticks(rotation=0,fontsize=12)"
   ]
  },
  {
   "cell_type": "code",
   "execution_count": 30,
   "metadata": {},
   "outputs": [
    {
     "data": {
      "text/plain": [
       "(5, 5)"
      ]
     },
     "execution_count": 30,
     "metadata": {},
     "output_type": "execute_result"
    }
   ],
   "source": [
    "data2 = pd.read_csv(\"Fhir2.csv\")\n",
    "data2.shape\n"
   ]
  },
  {
   "cell_type": "code",
   "execution_count": 31,
   "metadata": {},
   "outputs": [
    {
     "data": {
      "text/html": [
       "<div>\n",
       "<style scoped>\n",
       "    .dataframe tbody tr th:only-of-type {\n",
       "        vertical-align: middle;\n",
       "    }\n",
       "\n",
       "    .dataframe tbody tr th {\n",
       "        vertical-align: top;\n",
       "    }\n",
       "\n",
       "    .dataframe thead th {\n",
       "        text-align: right;\n",
       "    }\n",
       "</style>\n",
       "<table border=\"1\" class=\"dataframe\">\n",
       "  <thead>\n",
       "    <tr style=\"text-align: right;\">\n",
       "      <th></th>\n",
       "      <th>country</th>\n",
       "      <th>the_number_of_organizations</th>\n",
       "      <th>the_number_of_working_groups</th>\n",
       "      <th>the_number_of_clinics</th>\n",
       "      <th>the_whole_number_of_clinics</th>\n",
       "    </tr>\n",
       "  </thead>\n",
       "  <tbody>\n",
       "    <tr>\n",
       "      <th>0</th>\n",
       "      <td>US</td>\n",
       "      <td>105</td>\n",
       "      <td>37</td>\n",
       "      <td>5200</td>\n",
       "      <td>6000</td>\n",
       "    </tr>\n",
       "    <tr>\n",
       "      <th>1</th>\n",
       "      <td>Australia</td>\n",
       "      <td>15</td>\n",
       "      <td>7</td>\n",
       "      <td>305</td>\n",
       "      <td>1350</td>\n",
       "    </tr>\n",
       "    <tr>\n",
       "      <th>2</th>\n",
       "      <td>Germany</td>\n",
       "      <td>100</td>\n",
       "      <td>2</td>\n",
       "      <td>70</td>\n",
       "      <td>2000</td>\n",
       "    </tr>\n",
       "    <tr>\n",
       "      <th>3</th>\n",
       "      <td>Russia</td>\n",
       "      <td>2</td>\n",
       "      <td>2</td>\n",
       "      <td>1069</td>\n",
       "      <td>14500</td>\n",
       "    </tr>\n",
       "    <tr>\n",
       "      <th>4</th>\n",
       "      <td>Netherlands</td>\n",
       "      <td>5</td>\n",
       "      <td>2</td>\n",
       "      <td>27</td>\n",
       "      <td>545</td>\n",
       "    </tr>\n",
       "  </tbody>\n",
       "</table>\n",
       "</div>"
      ],
      "text/plain": [
       "       country  the_number_of_organizations  the_number_of_working_groups  \\\n",
       "0           US                          105                            37   \n",
       "1    Australia                           15                             7   \n",
       "2      Germany                          100                             2   \n",
       "3       Russia                            2                             2   \n",
       "4  Netherlands                            5                             2   \n",
       "\n",
       "   the_number_of_clinics  the_whole_number_of_clinics  \n",
       "0                   5200                         6000  \n",
       "1                    305                         1350  \n",
       "2                     70                         2000  \n",
       "3                   1069                        14500  \n",
       "4                     27                          545  "
      ]
     },
     "execution_count": 31,
     "metadata": {},
     "output_type": "execute_result"
    }
   ],
   "source": [
    "data2"
   ]
  },
  {
   "cell_type": "markdown",
   "metadata": {},
   "source": [
    "Данные из датасета представлены ниже в виде графиков:"
   ]
  },
  {
   "cell_type": "markdown",
   "metadata": {},
   "source": [
    "График количества организаций:"
   ]
  },
  {
   "cell_type": "code",
   "execution_count": 32,
   "metadata": {},
   "outputs": [
    {
     "data": {
      "image/png": "[encoded data removed]",
      "text/plain": [
       "<Figure size 576x360 with 1 Axes>"
      ]
     },
     "metadata": {
      "needs_background": "light"
     },
     "output_type": "display_data"
    }
   ],
   "source": [
    "df = data2[['country', 'the_number_of_organizations']].groupby('country').apply(lambda x: x)\n",
    "df.sort_values('the_number_of_organizations', inplace=True)\n",
    "df.reset_index(inplace=True)\n",
    "\n",
    "import matplotlib.patches as patches\n",
    "\n",
    "fig, ax = plt.subplots(figsize=(8,5))\n",
    "ax.vlines(x=df.index, ymin=0, ymax=df.the_number_of_organizations, color='firebrick', alpha=0.7, linewidth=20)\n",
    "\n",
    "for i, the_number_of_organizations in enumerate(df.the_number_of_organizations):\n",
    "    ax.text(i, the_number_of_organizations+0.5, round(the_number_of_organizations), horizontalalignment='center')\n",
    "\n",
    "\n",
    "ax.set_title('Количество организаций по странам', fontdict={'size':22})\n",
    "ax.set(ylabel='количество организаций', ylim=(0, 110))\n",
    "plt.xlabel('страна')\n",
    "plt.xticks(df.index, df.country,  fontsize=12)\n",
    "\n",
    "plt.show()"
   ]
  },
  {
   "cell_type": "markdown",
   "metadata": {},
   "source": [
    "График количества рабочих групп:"
   ]
  },
  {
   "cell_type": "code",
   "execution_count": 33,
   "metadata": {},
   "outputs": [
    {
     "data": {
      "image/png": "[encoded data removed]",
      "text/plain": [
       "<Figure size 576x360 with 1 Axes>"
      ]
     },
     "metadata": {
      "needs_background": "light"
     },
     "output_type": "display_data"
    }
   ],
   "source": [
    "df = data2[['country', 'the_number_of_working_groups']].groupby('country').apply(lambda x: x)\n",
    "df.sort_values('the_number_of_working_groups', inplace=True)\n",
    "df.reset_index(inplace=True)\n",
    "\n",
    "import matplotlib.patches as patches\n",
    "\n",
    "fig, ax = plt.subplots(figsize=(8,5))\n",
    "ax.vlines(x=df.index, ymin=0, ymax=df.the_number_of_working_groups, color='firebrick', alpha=0.7, linewidth=20)\n",
    "\n",
    "for i, the_number_of_working_groups in enumerate(df.the_number_of_working_groups):\n",
    "    ax.text(i, the_number_of_working_groups+0.5, round(the_number_of_working_groups), horizontalalignment='center')\n",
    "\n",
    "\n",
    "ax.set_title('Количество рабочих групп по странам', fontdict={'size':22})\n",
    "ax.set(ylabel='колчиество рабочих групп', ylim=(0, 40))\n",
    "plt.xlabel('страна')\n",
    "plt.xticks(df.index, df.country,  fontsize=12)\n",
    "\n",
    "plt.show()"
   ]
  },
  {
   "cell_type": "code",
   "execution_count": 34,
   "metadata": {},
   "outputs": [],
   "source": [
    "x=data2.sort_values('the_number_of_clinics')"
   ]
  },
  {
   "cell_type": "markdown",
   "metadata": {},
   "source": [
    "График количества клиник:"
   ]
  },
  {
   "cell_type": "code",
   "execution_count": 35,
   "metadata": {},
   "outputs": [
    {
     "data": {
      "image/png": "[encoded data removed]",
      "text/plain": [
       "<Figure size 576x360 with 1 Axes>"
      ]
     },
     "metadata": {
      "needs_background": "light"
     },
     "output_type": "display_data"
    }
   ],
   "source": [
    "df = data2[['country', 'the_number_of_clinics']].groupby('country').apply(lambda x: x)\n",
    "df.sort_values('the_number_of_clinics', inplace=True)\n",
    "df.reset_index(inplace=True)\n",
    "\n",
    "import matplotlib.patches as patches\n",
    "\n",
    "fig, ax = plt.subplots(figsize=(8,5))\n",
    "ax.vlines(x=df.index, ymin=0, ymax=df.the_number_of_clinics, color='firebrick', alpha=0.7, linewidth=20)\n",
    "\n",
    "for i, the_number_of_clinics in enumerate(df.the_number_of_clinics):\n",
    "    ax.text(i, the_number_of_clinics+1, round(the_number_of_clinics), horizontalalignment='center')\n",
    "\n",
    "\n",
    "ax.set_title('Количество клиник по странам', fontdict={'size':22})\n",
    "ax.set(ylabel='количество клиник', ylim=(0, 5500))\n",
    "plt.xlabel('страна')\n",
    "plt.xticks(df.index, df.country,  fontsize=12)\n",
    "\n",
    "plt.show()"
   ]
  },
  {
   "cell_type": "code",
   "execution_count": 36,
   "metadata": {},
   "outputs": [],
   "source": [
    "data2['percentage_fhir_clinics_number']=data2['the_number_of_clinics']*100/data2['the_whole_number_of_clinics']"
   ]
  },
  {
   "cell_type": "code",
   "execution_count": 37,
   "metadata": {},
   "outputs": [
    {
     "data": {
      "image/png": "[encoded data removed]",
      "text/plain": [
       "<Figure size 576x360 with 1 Axes>"
      ]
     },
     "metadata": {
      "needs_background": "light"
     },
     "output_type": "display_data"
    }
   ],
   "source": [
    "df = data2[['country', 'percentage_fhir_clinics_number']].groupby('country').apply(lambda x: x)\n",
    "df.sort_values('percentage_fhir_clinics_number', inplace=True)\n",
    "df.reset_index(inplace=True)\n",
    "\n",
    "import matplotlib.patches as patches\n",
    "\n",
    "fig, ax = plt.subplots(figsize=(8,5))\n",
    "ax.vlines(x=df.index, ymin=0, ymax=df.percentage_fhir_clinics_number, color='firebrick', alpha=0.7, linewidth=20)\n",
    "\n",
    "for i, percentage_fhir_clinics_number in enumerate(df.percentage_fhir_clinics_number):\n",
    "    ax.text(i, percentage_fhir_clinics_number+1, round(percentage_fhir_clinics_number,2), horizontalalignment='center')\n",
    "\n",
    "\n",
    "ax.set_title('Количество клиник по странам в процентах', fontdict={'size':22})\n",
    "ax.set(ylabel='%', ylim=(0, 100))\n",
    "plt.xlabel('страна')\n",
    "plt.xticks(df.index, df.country,  fontsize=12)\n",
    "\n",
    "plt.show()"
   ]
  },
  {
   "cell_type": "code",
   "execution_count": 38,
   "metadata": {},
   "outputs": [
    {
     "data": {
      "text/plain": [
       "(27, 3)"
      ]
     },
     "execution_count": 38,
     "metadata": {},
     "output_type": "execute_result"
    }
   ],
   "source": [
    "data3 = pd.read_csv(\"Fhir3.csv\")\n",
    "data3.shape"
   ]
  },
  {
   "cell_type": "code",
   "execution_count": 39,
   "metadata": {},
   "outputs": [
    {
     "data": {
      "text/html": [
       "<div>\n",
       "<style scoped>\n",
       "    .dataframe tbody tr th:only-of-type {\n",
       "        vertical-align: middle;\n",
       "    }\n",
       "\n",
       "    .dataframe tbody tr th {\n",
       "        vertical-align: top;\n",
       "    }\n",
       "\n",
       "    .dataframe thead th {\n",
       "        text-align: right;\n",
       "    }\n",
       "</style>\n",
       "<table border=\"1\" class=\"dataframe\">\n",
       "  <thead>\n",
       "    <tr style=\"text-align: right;\">\n",
       "      <th></th>\n",
       "      <th>country</th>\n",
       "      <th>year</th>\n",
       "      <th>the_number_of_conferences</th>\n",
       "    </tr>\n",
       "  </thead>\n",
       "  <tbody>\n",
       "    <tr>\n",
       "      <th>0</th>\n",
       "      <td>US</td>\n",
       "      <td>2012</td>\n",
       "      <td>1</td>\n",
       "    </tr>\n",
       "    <tr>\n",
       "      <th>1</th>\n",
       "      <td>US</td>\n",
       "      <td>2013</td>\n",
       "      <td>4</td>\n",
       "    </tr>\n",
       "    <tr>\n",
       "      <th>2</th>\n",
       "      <td>US</td>\n",
       "      <td>2014</td>\n",
       "      <td>3</td>\n",
       "    </tr>\n",
       "    <tr>\n",
       "      <th>3</th>\n",
       "      <td>US</td>\n",
       "      <td>2015</td>\n",
       "      <td>3</td>\n",
       "    </tr>\n",
       "    <tr>\n",
       "      <th>4</th>\n",
       "      <td>US</td>\n",
       "      <td>2016</td>\n",
       "      <td>3</td>\n",
       "    </tr>\n",
       "    <tr>\n",
       "      <th>5</th>\n",
       "      <td>US</td>\n",
       "      <td>2017</td>\n",
       "      <td>4</td>\n",
       "    </tr>\n",
       "    <tr>\n",
       "      <th>6</th>\n",
       "      <td>US</td>\n",
       "      <td>2018</td>\n",
       "      <td>3</td>\n",
       "    </tr>\n",
       "    <tr>\n",
       "      <th>7</th>\n",
       "      <td>US</td>\n",
       "      <td>2019</td>\n",
       "      <td>3</td>\n",
       "    </tr>\n",
       "    <tr>\n",
       "      <th>8</th>\n",
       "      <td>US</td>\n",
       "      <td>2020</td>\n",
       "      <td>3</td>\n",
       "    </tr>\n",
       "    <tr>\n",
       "      <th>9</th>\n",
       "      <td>Australia</td>\n",
       "      <td>2013</td>\n",
       "      <td>1</td>\n",
       "    </tr>\n",
       "    <tr>\n",
       "      <th>10</th>\n",
       "      <td>Australia</td>\n",
       "      <td>2014</td>\n",
       "      <td>1</td>\n",
       "    </tr>\n",
       "    <tr>\n",
       "      <th>11</th>\n",
       "      <td>Australia</td>\n",
       "      <td>2015</td>\n",
       "      <td>1</td>\n",
       "    </tr>\n",
       "    <tr>\n",
       "      <th>12</th>\n",
       "      <td>Australia</td>\n",
       "      <td>2016</td>\n",
       "      <td>2</td>\n",
       "    </tr>\n",
       "    <tr>\n",
       "      <th>13</th>\n",
       "      <td>Australia</td>\n",
       "      <td>2017</td>\n",
       "      <td>6</td>\n",
       "    </tr>\n",
       "    <tr>\n",
       "      <th>14</th>\n",
       "      <td>Australia</td>\n",
       "      <td>2018</td>\n",
       "      <td>2</td>\n",
       "    </tr>\n",
       "    <tr>\n",
       "      <th>15</th>\n",
       "      <td>Australia</td>\n",
       "      <td>2019</td>\n",
       "      <td>3</td>\n",
       "    </tr>\n",
       "    <tr>\n",
       "      <th>16</th>\n",
       "      <td>Australia</td>\n",
       "      <td>2020</td>\n",
       "      <td>1</td>\n",
       "    </tr>\n",
       "    <tr>\n",
       "      <th>17</th>\n",
       "      <td>Germany</td>\n",
       "      <td>2016</td>\n",
       "      <td>1</td>\n",
       "    </tr>\n",
       "    <tr>\n",
       "      <th>18</th>\n",
       "      <td>Germany</td>\n",
       "      <td>2017</td>\n",
       "      <td>1</td>\n",
       "    </tr>\n",
       "    <tr>\n",
       "      <th>19</th>\n",
       "      <td>Germany</td>\n",
       "      <td>2018</td>\n",
       "      <td>1</td>\n",
       "    </tr>\n",
       "    <tr>\n",
       "      <th>20</th>\n",
       "      <td>Germany</td>\n",
       "      <td>2019</td>\n",
       "      <td>1</td>\n",
       "    </tr>\n",
       "    <tr>\n",
       "      <th>21</th>\n",
       "      <td>Russia</td>\n",
       "      <td>2016</td>\n",
       "      <td>1</td>\n",
       "    </tr>\n",
       "    <tr>\n",
       "      <th>22</th>\n",
       "      <td>Russia</td>\n",
       "      <td>2018</td>\n",
       "      <td>1</td>\n",
       "    </tr>\n",
       "    <tr>\n",
       "      <th>23</th>\n",
       "      <td>Russia</td>\n",
       "      <td>2019</td>\n",
       "      <td>1</td>\n",
       "    </tr>\n",
       "    <tr>\n",
       "      <th>24</th>\n",
       "      <td>Netherlands</td>\n",
       "      <td>2018</td>\n",
       "      <td>1</td>\n",
       "    </tr>\n",
       "    <tr>\n",
       "      <th>25</th>\n",
       "      <td>Netherlands</td>\n",
       "      <td>2019</td>\n",
       "      <td>2</td>\n",
       "    </tr>\n",
       "    <tr>\n",
       "      <th>26</th>\n",
       "      <td>Netherlands</td>\n",
       "      <td>2020</td>\n",
       "      <td>1</td>\n",
       "    </tr>\n",
       "  </tbody>\n",
       "</table>\n",
       "</div>"
      ],
      "text/plain": [
       "        country  year  the_number_of_conferences\n",
       "0            US  2012                          1\n",
       "1            US  2013                          4\n",
       "2            US  2014                          3\n",
       "3            US  2015                          3\n",
       "4            US  2016                          3\n",
       "5            US  2017                          4\n",
       "6            US  2018                          3\n",
       "7            US  2019                          3\n",
       "8            US  2020                          3\n",
       "9     Australia  2013                          1\n",
       "10    Australia  2014                          1\n",
       "11    Australia  2015                          1\n",
       "12    Australia  2016                          2\n",
       "13    Australia  2017                          6\n",
       "14    Australia  2018                          2\n",
       "15    Australia  2019                          3\n",
       "16    Australia  2020                          1\n",
       "17      Germany  2016                          1\n",
       "18      Germany  2017                          1\n",
       "19      Germany  2018                          1\n",
       "20      Germany  2019                          1\n",
       "21       Russia  2016                          1\n",
       "22       Russia  2018                          1\n",
       "23       Russia  2019                          1\n",
       "24  Netherlands  2018                          1\n",
       "25  Netherlands  2019                          2\n",
       "26  Netherlands  2020                          1"
      ]
     },
     "execution_count": 39,
     "metadata": {},
     "output_type": "execute_result"
    }
   ],
   "source": [
    "data3"
   ]
  },
  {
   "cell_type": "markdown",
   "metadata": {},
   "source": [
    "Число конференций по годам в США:"
   ]
  },
  {
   "cell_type": "code",
   "execution_count": 40,
   "metadata": {},
   "outputs": [],
   "source": [
    "data3US=data3[data3.country=='US'].copy()"
   ]
  },
  {
   "cell_type": "code",
   "execution_count": 41,
   "metadata": {},
   "outputs": [
    {
     "data": {
      "image/png": "[encoded data removed]",
      "text/plain": [
       "<Figure size 576x360 with 1 Axes>"
      ]
     },
     "metadata": {
      "needs_background": "light"
     },
     "output_type": "display_data"
    }
   ],
   "source": [
    "df = data3US[['year', 'the_number_of_conferences']].groupby('year').apply(lambda x: x)\n",
    "df.sort_values('year', inplace=True)\n",
    "df.reset_index(inplace=True)\n",
    "\n",
    "import matplotlib.patches as patches\n",
    "\n",
    "fig, ax = plt.subplots(figsize=(8,5))\n",
    "ax.vlines(x=df.index, ymin=0, ymax=df.the_number_of_conferences, color='firebrick', alpha=0.7, linewidth=20)\n",
    "\n",
    "for i, the_number_of_conferences in enumerate(df.the_number_of_conferences):\n",
    "    ax.text(i, the_number_of_conferences+0.2, round(the_number_of_conferences), horizontalalignment='center')\n",
    "\n",
    "\n",
    "ax.set_title('Количество конференций в США', fontdict={'size':22})\n",
    "ax.set(ylabel='количество конференций', ylim=(0, 5))\n",
    "plt.xlabel('год')\n",
    "plt.xticks(df.index, df.year,  fontsize=12)\n",
    "\n",
    "plt.show()"
   ]
  },
  {
   "cell_type": "markdown",
   "metadata": {},
   "source": [
    "Число конференций по годам в Австралии:"
   ]
  },
  {
   "cell_type": "code",
   "execution_count": 42,
   "metadata": {},
   "outputs": [],
   "source": [
    "data3Australia=data3[data3.country=='Australia'].copy()"
   ]
  },
  {
   "cell_type": "code",
   "execution_count": 43,
   "metadata": {},
   "outputs": [
    {
     "data": {
      "image/png": "[encoded data removed]",
      "text/plain": [
       "<Figure size 576x360 with 1 Axes>"
      ]
     },
     "metadata": {
      "needs_background": "light"
     },
     "output_type": "display_data"
    }
   ],
   "source": [
    "df = data3Australia[['year', 'the_number_of_conferences']].groupby('year').apply(lambda x: x)\n",
    "df.sort_values('year', inplace=True)\n",
    "df.reset_index(inplace=True)\n",
    "\n",
    "import matplotlib.patches as patches\n",
    "\n",
    "fig, ax = plt.subplots(figsize=(8,5))\n",
    "ax.vlines(x=df.index, ymin=0, ymax=df.the_number_of_conferences, color='firebrick', alpha=0.7, linewidth=20)\n",
    "\n",
    "for i, the_number_of_conferences in enumerate(df.the_number_of_conferences):\n",
    "    ax.text(i, the_number_of_conferences+0.2, round(the_number_of_conferences), horizontalalignment='center')\n",
    "\n",
    "\n",
    "ax.set_title('Количество конференций в Австралии', fontdict={'size':22})\n",
    "ax.set(ylabel='количество конференций', ylim=(0, 7))\n",
    "plt.xlabel('год')\n",
    "plt.xticks(df.index, df.year,  fontsize=12)\n",
    "\n",
    "plt.show()"
   ]
  },
  {
   "cell_type": "markdown",
   "metadata": {},
   "source": [
    "Число конференций по годам в Германии:"
   ]
  },
  {
   "cell_type": "code",
   "execution_count": 44,
   "metadata": {},
   "outputs": [],
   "source": [
    "data3Germany=data3[data3.country=='Germany'].copy()"
   ]
  },
  {
   "cell_type": "code",
   "execution_count": 45,
   "metadata": {},
   "outputs": [
    {
     "data": {
      "image/png": "[encoded data removed]",
      "text/plain": [
       "<Figure size 576x360 with 1 Axes>"
      ]
     },
     "metadata": {
      "needs_background": "light"
     },
     "output_type": "display_data"
    }
   ],
   "source": [
    "df = data3Germany[['year', 'the_number_of_conferences']].groupby('year').apply(lambda x: x)\n",
    "df.sort_values('year', inplace=True)\n",
    "df.reset_index(inplace=True)\n",
    "\n",
    "import matplotlib.patches as patches\n",
    "\n",
    "fig, ax = plt.subplots(figsize=(8,5))\n",
    "ax.vlines(x=df.index, ymin=0, ymax=df.the_number_of_conferences, color='firebrick', alpha=0.7, linewidth=20)\n",
    "\n",
    "for i, the_number_of_conferences in enumerate(df.the_number_of_conferences):\n",
    "    ax.text(i, the_number_of_conferences+0.2, round(the_number_of_conferences), horizontalalignment='center')\n",
    "\n",
    "\n",
    "ax.set_title('Количество конференций в Германии', fontdict={'size':22})\n",
    "ax.set(ylabel='количество конференций', ylim=(0, 5))\n",
    "plt.xlabel('год')\n",
    "plt.xticks(df.index, df.year,  fontsize=12)\n",
    "\n",
    "plt.show()"
   ]
  },
  {
   "cell_type": "markdown",
   "metadata": {},
   "source": [
    "Число конференций по годам в Нидерландах:"
   ]
  },
  {
   "cell_type": "code",
   "execution_count": 46,
   "metadata": {},
   "outputs": [],
   "source": [
    "data3Netherlands=data3[data3.country=='Netherlands'].copy()"
   ]
  },
  {
   "cell_type": "code",
   "execution_count": 47,
   "metadata": {},
   "outputs": [
    {
     "data": {
      "image/png": "[encoded data removed]",
      "text/plain": [
       "<Figure size 576x360 with 1 Axes>"
      ]
     },
     "metadata": {
      "needs_background": "light"
     },
     "output_type": "display_data"
    }
   ],
   "source": [
    "df = data3Netherlands[['year', 'the_number_of_conferences']].groupby('year').apply(lambda x: x)\n",
    "df.sort_values('year', inplace=True)\n",
    "df.reset_index(inplace=True)\n",
    "\n",
    "import matplotlib.patches as patches\n",
    "\n",
    "fig, ax = plt.subplots(figsize=(8,5))\n",
    "ax.vlines(x=df.index, ymin=0, ymax=df.the_number_of_conferences, color='firebrick', alpha=0.7, linewidth=20)\n",
    "\n",
    "for i, the_number_of_conferences in enumerate(df.the_number_of_conferences):\n",
    "    ax.text(i, the_number_of_conferences+0.2, round(the_number_of_conferences), horizontalalignment='center')\n",
    "\n",
    "\n",
    "ax.set_title('Количество конференций в Нидерландах', fontdict={'size':22})\n",
    "ax.set(ylabel='количество конференций', ylim=(0, 5))\n",
    "plt.xlabel('год')\n",
    "plt.xticks(df.index, df.year,  fontsize=12)\n",
    "\n",
    "plt.show()"
   ]
  },
  {
   "cell_type": "markdown",
   "metadata": {},
   "source": [
    "Число конференций по годам в России:"
   ]
  },
  {
   "cell_type": "code",
   "execution_count": 48,
   "metadata": {},
   "outputs": [],
   "source": [
    "data3Russia=data3[data3.country=='Russia'].copy()"
   ]
  },
  {
   "cell_type": "code",
   "execution_count": 49,
   "metadata": {},
   "outputs": [
    {
     "data": {
      "image/png": "[encoded data removed]",
      "text/plain": [
       "<Figure size 576x360 with 1 Axes>"
      ]
     },
     "metadata": {
      "needs_background": "light"
     },
     "output_type": "display_data"
    }
   ],
   "source": [
    "df = data3Russia[['year', 'the_number_of_conferences']].groupby('year').apply(lambda x: x)\n",
    "df.sort_values('year', inplace=True)\n",
    "df.reset_index(inplace=True)\n",
    "\n",
    "import matplotlib.patches as patches\n",
    "\n",
    "fig, ax = plt.subplots(figsize=(8,5))\n",
    "ax.vlines(x=df.index, ymin=0, ymax=df.the_number_of_conferences, color='firebrick', alpha=0.7, linewidth=20)\n",
    "\n",
    "for i, the_number_of_conferences in enumerate(df.the_number_of_conferences):\n",
    "    ax.text(i, the_number_of_conferences+0.2, round(the_number_of_conferences), horizontalalignment='center')\n",
    "\n",
    "\n",
    "ax.set_title('Количество конференций в России', fontdict={'size':22})\n",
    "ax.set(ylabel='количество конференций', ylim=(0, 5))\n",
    "plt.xlabel('год')\n",
    "plt.xticks(df.index, df.year,  fontsize=12)\n",
    "\n",
    "plt.show()"
   ]
  },
  {
   "cell_type": "markdown",
   "metadata": {},
   "source": [
    "Подготовим датасеты для дальнейшего анализа путем преобразованияих в новые:"
   ]
  },
  {
   "cell_type": "code",
   "execution_count": 50,
   "metadata": {},
   "outputs": [],
   "source": [
    "data_activeUS.index = data_activeUS.index.astype(int)"
   ]
  },
  {
   "cell_type": "code",
   "execution_count": 51,
   "metadata": {},
   "outputs": [],
   "source": [
    "data_scatterUS = pd.DataFrame({'year': data_activeUS.index, 'projects':data_activeUS.values})\n"
   ]
  },
  {
   "cell_type": "code",
   "execution_count": 52,
   "metadata": {},
   "outputs": [],
   "source": [
    "data_scatterUS['country']='US'"
   ]
  },
  {
   "cell_type": "code",
   "execution_count": 53,
   "metadata": {},
   "outputs": [],
   "source": [
    "data_scatterUS=pd.merge(data_scatterUS,data3US,on='year',how='outer')"
   ]
  },
  {
   "cell_type": "code",
   "execution_count": 54,
   "metadata": {},
   "outputs": [],
   "source": [
    "data_scatterUS=data_scatterUS.drop(['country_y'],axis=1)"
   ]
  },
  {
   "cell_type": "code",
   "execution_count": 55,
   "metadata": {},
   "outputs": [],
   "source": [
    "data_scatterUS=data_scatterUS.fillna(0)"
   ]
  },
  {
   "cell_type": "code",
   "execution_count": 56,
   "metadata": {},
   "outputs": [],
   "source": [
    "data_activeAU.index = data_activeAU.index.astype(int)"
   ]
  },
  {
   "cell_type": "code",
   "execution_count": 57,
   "metadata": {},
   "outputs": [],
   "source": [
    "data_scatterAU=pd.DataFrame({'year': data_activeAU.index, 'projects':data_activeAU.values})\n",
    "data_scatterAU['country']='Australia'"
   ]
  },
  {
   "cell_type": "code",
   "execution_count": 58,
   "metadata": {},
   "outputs": [],
   "source": [
    "data_scatterAU=pd.merge(data_scatterAU,data3Australia,on='year',how='outer')"
   ]
  },
  {
   "cell_type": "code",
   "execution_count": 59,
   "metadata": {},
   "outputs": [],
   "source": [
    "data_scatterAU=data_scatterAU.drop(['country_y'],axis=1)"
   ]
  },
  {
   "cell_type": "code",
   "execution_count": 60,
   "metadata": {},
   "outputs": [],
   "source": [
    "data_scatterAU['country_x']='Australia'"
   ]
  },
  {
   "cell_type": "code",
   "execution_count": 61,
   "metadata": {},
   "outputs": [],
   "source": [
    "data_scatterAU=data_scatterAU.fillna(0)"
   ]
  },
  {
   "cell_type": "code",
   "execution_count": 62,
   "metadata": {},
   "outputs": [],
   "source": [
    "data_activeGermany.index = data_activeGermany.index.astype(int)"
   ]
  },
  {
   "cell_type": "code",
   "execution_count": 63,
   "metadata": {},
   "outputs": [],
   "source": [
    "data_scatterGermany=pd.DataFrame({'year': data_activeGermany.index, 'projects':data_activeGermany.values})\n",
    "data_scatterGermany['country']='Germany'"
   ]
  },
  {
   "cell_type": "code",
   "execution_count": 64,
   "metadata": {},
   "outputs": [],
   "source": [
    "data_scatterGermany=pd.merge(data_scatterGermany,data3Germany,on='year',how='outer')"
   ]
  },
  {
   "cell_type": "code",
   "execution_count": 65,
   "metadata": {},
   "outputs": [],
   "source": [
    "data_scatterGermany=data_scatterGermany.drop(['country_y'],axis=1)\n",
    "data_scatterGermany['country_x']='Germany'\n",
    "data_scatterGermany=data_scatterGermany.fillna(0)"
   ]
  },
  {
   "cell_type": "code",
   "execution_count": 66,
   "metadata": {},
   "outputs": [],
   "source": [
    "data_activeNetherlands.index = data_activeNetherlands.index.astype(int)"
   ]
  },
  {
   "cell_type": "code",
   "execution_count": 67,
   "metadata": {},
   "outputs": [],
   "source": [
    "data_scatterNetherlands=pd.DataFrame({'year': data_activeNetherlands.index, 'projects':data_activeNetherlands.values})\n",
    "data_scatterNetherlands['country']='Netherlands'\n",
    "data_scatterNetherlands=pd.merge(data_scatterNetherlands,data3Netherlands,on='year',how='outer')"
   ]
  },
  {
   "cell_type": "code",
   "execution_count": 68,
   "metadata": {},
   "outputs": [],
   "source": [
    "data_scatterNetherlands=data_scatterNetherlands.drop(['country_y'],axis=1)\n",
    "data_scatterNetherlands['country_x']='Netherlands'\n",
    "data_scatterNetherlands=data_scatterNetherlands.fillna(0)"
   ]
  },
  {
   "cell_type": "code",
   "execution_count": 69,
   "metadata": {},
   "outputs": [],
   "source": [
    "data_activeRussia.index = data_activeRussia.index.astype(int)"
   ]
  },
  {
   "cell_type": "code",
   "execution_count": 70,
   "metadata": {},
   "outputs": [],
   "source": [
    "data_scatterRussia=pd.DataFrame({'year': data_activeRussia.index, 'projects':data_activeRussia.values})\n",
    "data_scatterRussia['country']='Russia'\n",
    "data_scatterRussia=pd.merge(data_scatterRussia,data3Russia,on='year',how='outer')"
   ]
  },
  {
   "cell_type": "code",
   "execution_count": 71,
   "metadata": {},
   "outputs": [],
   "source": [
    "data_scatterRussia=data_scatterRussia.drop(['country_y'],axis=1)\n",
    "data_scatterRussia['country_x']='Russia'\n",
    "data_scatterRussia=data_scatterRussia.fillna(0)"
   ]
  },
  {
   "cell_type": "code",
   "execution_count": 72,
   "metadata": {},
   "outputs": [],
   "source": [
    "data_new=pd.concat([data_scatterAU,data_scatterUS,data_scatterGermany,data_scatterNetherlands,data_scatterRussia])"
   ]
  },
  {
   "cell_type": "markdown",
   "metadata": {},
   "source": [
    "Получаем необходимый датасет:"
   ]
  },
  {
   "cell_type": "code",
   "execution_count": 73,
   "metadata": {},
   "outputs": [
    {
     "data": {
      "text/html": [
       "<div>\n",
       "<style scoped>\n",
       "    .dataframe tbody tr th:only-of-type {\n",
       "        vertical-align: middle;\n",
       "    }\n",
       "\n",
       "    .dataframe tbody tr th {\n",
       "        vertical-align: top;\n",
       "    }\n",
       "\n",
       "    .dataframe thead th {\n",
       "        text-align: right;\n",
       "    }\n",
       "</style>\n",
       "<table border=\"1\" class=\"dataframe\">\n",
       "  <thead>\n",
       "    <tr style=\"text-align: right;\">\n",
       "      <th></th>\n",
       "      <th>year</th>\n",
       "      <th>projects</th>\n",
       "      <th>country_x</th>\n",
       "      <th>the_number_of_conferences</th>\n",
       "    </tr>\n",
       "  </thead>\n",
       "  <tbody>\n",
       "    <tr>\n",
       "      <th>0</th>\n",
       "      <td>2015</td>\n",
       "      <td>1.0</td>\n",
       "      <td>Australia</td>\n",
       "      <td>1.0</td>\n",
       "    </tr>\n",
       "    <tr>\n",
       "      <th>1</th>\n",
       "      <td>2017</td>\n",
       "      <td>1.0</td>\n",
       "      <td>Australia</td>\n",
       "      <td>6.0</td>\n",
       "    </tr>\n",
       "    <tr>\n",
       "      <th>2</th>\n",
       "      <td>2018</td>\n",
       "      <td>1.0</td>\n",
       "      <td>Australia</td>\n",
       "      <td>2.0</td>\n",
       "    </tr>\n",
       "    <tr>\n",
       "      <th>3</th>\n",
       "      <td>2019</td>\n",
       "      <td>2.0</td>\n",
       "      <td>Australia</td>\n",
       "      <td>3.0</td>\n",
       "    </tr>\n",
       "    <tr>\n",
       "      <th>4</th>\n",
       "      <td>2020</td>\n",
       "      <td>1.0</td>\n",
       "      <td>Australia</td>\n",
       "      <td>1.0</td>\n",
       "    </tr>\n",
       "    <tr>\n",
       "      <th>5</th>\n",
       "      <td>2013</td>\n",
       "      <td>0.0</td>\n",
       "      <td>Australia</td>\n",
       "      <td>1.0</td>\n",
       "    </tr>\n",
       "    <tr>\n",
       "      <th>6</th>\n",
       "      <td>2014</td>\n",
       "      <td>0.0</td>\n",
       "      <td>Australia</td>\n",
       "      <td>1.0</td>\n",
       "    </tr>\n",
       "    <tr>\n",
       "      <th>7</th>\n",
       "      <td>2016</td>\n",
       "      <td>0.0</td>\n",
       "      <td>Australia</td>\n",
       "      <td>2.0</td>\n",
       "    </tr>\n",
       "    <tr>\n",
       "      <th>0</th>\n",
       "      <td>2006</td>\n",
       "      <td>1.0</td>\n",
       "      <td>US</td>\n",
       "      <td>0.0</td>\n",
       "    </tr>\n",
       "    <tr>\n",
       "      <th>1</th>\n",
       "      <td>2009</td>\n",
       "      <td>1.0</td>\n",
       "      <td>US</td>\n",
       "      <td>0.0</td>\n",
       "    </tr>\n",
       "    <tr>\n",
       "      <th>2</th>\n",
       "      <td>2010</td>\n",
       "      <td>2.0</td>\n",
       "      <td>US</td>\n",
       "      <td>0.0</td>\n",
       "    </tr>\n",
       "    <tr>\n",
       "      <th>3</th>\n",
       "      <td>2012</td>\n",
       "      <td>2.0</td>\n",
       "      <td>US</td>\n",
       "      <td>1.0</td>\n",
       "    </tr>\n",
       "    <tr>\n",
       "      <th>4</th>\n",
       "      <td>2013</td>\n",
       "      <td>2.0</td>\n",
       "      <td>US</td>\n",
       "      <td>4.0</td>\n",
       "    </tr>\n",
       "    <tr>\n",
       "      <th>5</th>\n",
       "      <td>2014</td>\n",
       "      <td>5.0</td>\n",
       "      <td>US</td>\n",
       "      <td>3.0</td>\n",
       "    </tr>\n",
       "    <tr>\n",
       "      <th>6</th>\n",
       "      <td>2015</td>\n",
       "      <td>12.0</td>\n",
       "      <td>US</td>\n",
       "      <td>3.0</td>\n",
       "    </tr>\n",
       "    <tr>\n",
       "      <th>7</th>\n",
       "      <td>2016</td>\n",
       "      <td>8.0</td>\n",
       "      <td>US</td>\n",
       "      <td>3.0</td>\n",
       "    </tr>\n",
       "    <tr>\n",
       "      <th>8</th>\n",
       "      <td>2017</td>\n",
       "      <td>7.0</td>\n",
       "      <td>US</td>\n",
       "      <td>4.0</td>\n",
       "    </tr>\n",
       "    <tr>\n",
       "      <th>9</th>\n",
       "      <td>2018</td>\n",
       "      <td>33.0</td>\n",
       "      <td>US</td>\n",
       "      <td>3.0</td>\n",
       "    </tr>\n",
       "    <tr>\n",
       "      <th>10</th>\n",
       "      <td>2019</td>\n",
       "      <td>13.0</td>\n",
       "      <td>US</td>\n",
       "      <td>3.0</td>\n",
       "    </tr>\n",
       "    <tr>\n",
       "      <th>11</th>\n",
       "      <td>2020</td>\n",
       "      <td>25.0</td>\n",
       "      <td>US</td>\n",
       "      <td>3.0</td>\n",
       "    </tr>\n",
       "    <tr>\n",
       "      <th>0</th>\n",
       "      <td>2010</td>\n",
       "      <td>1.0</td>\n",
       "      <td>Germany</td>\n",
       "      <td>0.0</td>\n",
       "    </tr>\n",
       "    <tr>\n",
       "      <th>1</th>\n",
       "      <td>2013</td>\n",
       "      <td>1.0</td>\n",
       "      <td>Germany</td>\n",
       "      <td>0.0</td>\n",
       "    </tr>\n",
       "    <tr>\n",
       "      <th>2</th>\n",
       "      <td>2015</td>\n",
       "      <td>1.0</td>\n",
       "      <td>Germany</td>\n",
       "      <td>0.0</td>\n",
       "    </tr>\n",
       "    <tr>\n",
       "      <th>3</th>\n",
       "      <td>2016</td>\n",
       "      <td>2.0</td>\n",
       "      <td>Germany</td>\n",
       "      <td>1.0</td>\n",
       "    </tr>\n",
       "    <tr>\n",
       "      <th>4</th>\n",
       "      <td>2017</td>\n",
       "      <td>1.0</td>\n",
       "      <td>Germany</td>\n",
       "      <td>1.0</td>\n",
       "    </tr>\n",
       "    <tr>\n",
       "      <th>5</th>\n",
       "      <td>2018</td>\n",
       "      <td>6.0</td>\n",
       "      <td>Germany</td>\n",
       "      <td>1.0</td>\n",
       "    </tr>\n",
       "    <tr>\n",
       "      <th>6</th>\n",
       "      <td>2019</td>\n",
       "      <td>10.0</td>\n",
       "      <td>Germany</td>\n",
       "      <td>1.0</td>\n",
       "    </tr>\n",
       "    <tr>\n",
       "      <th>7</th>\n",
       "      <td>2020</td>\n",
       "      <td>2.0</td>\n",
       "      <td>Germany</td>\n",
       "      <td>0.0</td>\n",
       "    </tr>\n",
       "    <tr>\n",
       "      <th>0</th>\n",
       "      <td>2017</td>\n",
       "      <td>1.0</td>\n",
       "      <td>Netherlands</td>\n",
       "      <td>0.0</td>\n",
       "    </tr>\n",
       "    <tr>\n",
       "      <th>1</th>\n",
       "      <td>2018</td>\n",
       "      <td>1.0</td>\n",
       "      <td>Netherlands</td>\n",
       "      <td>1.0</td>\n",
       "    </tr>\n",
       "    <tr>\n",
       "      <th>2</th>\n",
       "      <td>2019</td>\n",
       "      <td>5.0</td>\n",
       "      <td>Netherlands</td>\n",
       "      <td>2.0</td>\n",
       "    </tr>\n",
       "    <tr>\n",
       "      <th>3</th>\n",
       "      <td>2020</td>\n",
       "      <td>1.0</td>\n",
       "      <td>Netherlands</td>\n",
       "      <td>1.0</td>\n",
       "    </tr>\n",
       "    <tr>\n",
       "      <th>0</th>\n",
       "      <td>2019</td>\n",
       "      <td>1.0</td>\n",
       "      <td>Russia</td>\n",
       "      <td>1.0</td>\n",
       "    </tr>\n",
       "    <tr>\n",
       "      <th>1</th>\n",
       "      <td>2020</td>\n",
       "      <td>1.0</td>\n",
       "      <td>Russia</td>\n",
       "      <td>0.0</td>\n",
       "    </tr>\n",
       "    <tr>\n",
       "      <th>2</th>\n",
       "      <td>2016</td>\n",
       "      <td>0.0</td>\n",
       "      <td>Russia</td>\n",
       "      <td>1.0</td>\n",
       "    </tr>\n",
       "    <tr>\n",
       "      <th>3</th>\n",
       "      <td>2018</td>\n",
       "      <td>0.0</td>\n",
       "      <td>Russia</td>\n",
       "      <td>1.0</td>\n",
       "    </tr>\n",
       "  </tbody>\n",
       "</table>\n",
       "</div>"
      ],
      "text/plain": [
       "    year  projects    country_x  the_number_of_conferences\n",
       "0   2015       1.0    Australia                        1.0\n",
       "1   2017       1.0    Australia                        6.0\n",
       "2   2018       1.0    Australia                        2.0\n",
       "3   2019       2.0    Australia                        3.0\n",
       "4   2020       1.0    Australia                        1.0\n",
       "5   2013       0.0    Australia                        1.0\n",
       "6   2014       0.0    Australia                        1.0\n",
       "7   2016       0.0    Australia                        2.0\n",
       "0   2006       1.0           US                        0.0\n",
       "1   2009       1.0           US                        0.0\n",
       "2   2010       2.0           US                        0.0\n",
       "3   2012       2.0           US                        1.0\n",
       "4   2013       2.0           US                        4.0\n",
       "5   2014       5.0           US                        3.0\n",
       "6   2015      12.0           US                        3.0\n",
       "7   2016       8.0           US                        3.0\n",
       "8   2017       7.0           US                        4.0\n",
       "9   2018      33.0           US                        3.0\n",
       "10  2019      13.0           US                        3.0\n",
       "11  2020      25.0           US                        3.0\n",
       "0   2010       1.0      Germany                        0.0\n",
       "1   2013       1.0      Germany                        0.0\n",
       "2   2015       1.0      Germany                        0.0\n",
       "3   2016       2.0      Germany                        1.0\n",
       "4   2017       1.0      Germany                        1.0\n",
       "5   2018       6.0      Germany                        1.0\n",
       "6   2019      10.0      Germany                        1.0\n",
       "7   2020       2.0      Germany                        0.0\n",
       "0   2017       1.0  Netherlands                        0.0\n",
       "1   2018       1.0  Netherlands                        1.0\n",
       "2   2019       5.0  Netherlands                        2.0\n",
       "3   2020       1.0  Netherlands                        1.0\n",
       "0   2019       1.0       Russia                        1.0\n",
       "1   2020       1.0       Russia                        0.0\n",
       "2   2016       0.0       Russia                        1.0\n",
       "3   2018       0.0       Russia                        1.0"
      ]
     },
     "execution_count": 73,
     "metadata": {},
     "output_type": "execute_result"
    }
   ],
   "source": [
    "data_new"
   ]
  },
  {
   "cell_type": "markdown",
   "metadata": {},
   "source": [
    "Построим график зависимости количества проведенных конференций и активных проектов:"
   ]
  },
  {
   "cell_type": "code",
   "execution_count": 74,
   "metadata": {},
   "outputs": [
    {
     "data": {
      "text/plain": [
       "Text(0, 0.5, 'количество проектов')"
      ]
     },
     "execution_count": 74,
     "metadata": {},
     "output_type": "execute_result"
    },
    {
     "data": {
      "image/png": "[encoded data removed]",
      "text/plain": [
       "<Figure size 432x288 with 1 Axes>"
      ]
     },
     "metadata": {
      "needs_background": "light"
     },
     "output_type": "display_data"
    }
   ],
   "source": [
    "ax = sns.scatterplot(x=\"the_number_of_conferences\", y=\"projects\",hue='country_x', data=data_new)\n",
    "ax.set_title('Зависимость количества конференций и числа активных проектов', fontdict={'size':18})\n",
    "plt.xlabel('количество конференций')\n",
    "plt.ylabel('количество проектов')"
   ]
  },
  {
   "cell_type": "markdown",
   "metadata": {},
   "source": [
    "Создадим еще один датасет из имеющихся:"
   ]
  },
  {
   "cell_type": "code",
   "execution_count": 75,
   "metadata": {},
   "outputs": [],
   "source": [
    "data_scatter=pd.DataFrame({'country': data.country.value_counts().index, 'projects':data.country.value_counts().values})\n"
   ]
  },
  {
   "cell_type": "code",
   "execution_count": 76,
   "metadata": {},
   "outputs": [],
   "source": [
    "data_scatter=pd.merge(data_scatter,data2,on='country')"
   ]
  },
  {
   "cell_type": "code",
   "execution_count": 77,
   "metadata": {},
   "outputs": [
    {
     "data": {
      "text/html": [
       "<div>\n",
       "<style scoped>\n",
       "    .dataframe tbody tr th:only-of-type {\n",
       "        vertical-align: middle;\n",
       "    }\n",
       "\n",
       "    .dataframe tbody tr th {\n",
       "        vertical-align: top;\n",
       "    }\n",
       "\n",
       "    .dataframe thead th {\n",
       "        text-align: right;\n",
       "    }\n",
       "</style>\n",
       "<table border=\"1\" class=\"dataframe\">\n",
       "  <thead>\n",
       "    <tr style=\"text-align: right;\">\n",
       "      <th></th>\n",
       "      <th>country</th>\n",
       "      <th>projects</th>\n",
       "      <th>the_number_of_organizations</th>\n",
       "      <th>the_number_of_working_groups</th>\n",
       "      <th>the_number_of_clinics</th>\n",
       "      <th>the_whole_number_of_clinics</th>\n",
       "      <th>percentage_fhir_clinics_number</th>\n",
       "    </tr>\n",
       "  </thead>\n",
       "  <tbody>\n",
       "    <tr>\n",
       "      <th>0</th>\n",
       "      <td>US</td>\n",
       "      <td>156</td>\n",
       "      <td>105</td>\n",
       "      <td>37</td>\n",
       "      <td>5200</td>\n",
       "      <td>6000</td>\n",
       "      <td>86.666667</td>\n",
       "    </tr>\n",
       "    <tr>\n",
       "      <th>1</th>\n",
       "      <td>Germany</td>\n",
       "      <td>26</td>\n",
       "      <td>100</td>\n",
       "      <td>2</td>\n",
       "      <td>70</td>\n",
       "      <td>2000</td>\n",
       "      <td>3.500000</td>\n",
       "    </tr>\n",
       "    <tr>\n",
       "      <th>2</th>\n",
       "      <td>Netherlands</td>\n",
       "      <td>14</td>\n",
       "      <td>5</td>\n",
       "      <td>2</td>\n",
       "      <td>27</td>\n",
       "      <td>545</td>\n",
       "      <td>4.954128</td>\n",
       "    </tr>\n",
       "    <tr>\n",
       "      <th>3</th>\n",
       "      <td>Australia</td>\n",
       "      <td>7</td>\n",
       "      <td>15</td>\n",
       "      <td>7</td>\n",
       "      <td>305</td>\n",
       "      <td>1350</td>\n",
       "      <td>22.592593</td>\n",
       "    </tr>\n",
       "    <tr>\n",
       "      <th>4</th>\n",
       "      <td>Russia</td>\n",
       "      <td>3</td>\n",
       "      <td>2</td>\n",
       "      <td>2</td>\n",
       "      <td>1069</td>\n",
       "      <td>14500</td>\n",
       "      <td>7.372414</td>\n",
       "    </tr>\n",
       "  </tbody>\n",
       "</table>\n",
       "</div>"
      ],
      "text/plain": [
       "       country  projects  the_number_of_organizations  \\\n",
       "0           US       156                          105   \n",
       "1      Germany        26                          100   \n",
       "2  Netherlands        14                            5   \n",
       "3    Australia         7                           15   \n",
       "4       Russia         3                            2   \n",
       "\n",
       "   the_number_of_working_groups  the_number_of_clinics  \\\n",
       "0                            37                   5200   \n",
       "1                             2                     70   \n",
       "2                             2                     27   \n",
       "3                             7                    305   \n",
       "4                             2                   1069   \n",
       "\n",
       "   the_whole_number_of_clinics  percentage_fhir_clinics_number  \n",
       "0                         6000                       86.666667  \n",
       "1                         2000                        3.500000  \n",
       "2                          545                        4.954128  \n",
       "3                         1350                       22.592593  \n",
       "4                        14500                        7.372414  "
      ]
     },
     "execution_count": 77,
     "metadata": {},
     "output_type": "execute_result"
    }
   ],
   "source": [
    "data_scatter"
   ]
  },
  {
   "cell_type": "markdown",
   "metadata": {},
   "source": [
    "Построим график зависимости общего числа проектов и количества клиник по странам:"
   ]
  },
  {
   "cell_type": "code",
   "execution_count": 78,
   "metadata": {},
   "outputs": [
    {
     "data": {
      "text/plain": [
       "Text(0, 0.5, 'количество клиник')"
      ]
     },
     "execution_count": 78,
     "metadata": {},
     "output_type": "execute_result"
    },
    {
     "data": {
      "image/png": "[encoded data removed]",
      "text/plain": [
       "<Figure size 432x288 with 1 Axes>"
      ]
     },
     "metadata": {
      "needs_background": "light"
     },
     "output_type": "display_data"
    }
   ],
   "source": [
    "ax = sns.scatterplot(x=\"projects\", y=\"the_number_of_clinics\",hue='country', data=data_scatter)\n",
    "ax.set_title('Зависимость общего числа проектов и количества клиник', fontdict={'size':18})\n",
    "plt.xlabel('количество проектов')\n",
    "plt.ylabel('количество клиник')"
   ]
  },
  {
   "cell_type": "markdown",
   "metadata": {},
   "source": [
    "Безусловно, США является лидером. Теперь посмотрим эту же зависимость только для других стран без учета США:"
   ]
  },
  {
   "cell_type": "code",
   "execution_count": 79,
   "metadata": {},
   "outputs": [],
   "source": [
    "data_scatter=data_scatter.drop([0])"
   ]
  },
  {
   "cell_type": "code",
   "execution_count": 80,
   "metadata": {},
   "outputs": [
    {
     "data": {
      "text/plain": [
       "Text(0, 0.5, 'количество клиник')"
      ]
     },
     "execution_count": 80,
     "metadata": {},
     "output_type": "execute_result"
    },
    {
     "data": {
      "image/png": "[encoded data removed]",
      "text/plain": [
       "<Figure size 432x288 with 1 Axes>"
      ]
     },
     "metadata": {
      "needs_background": "light"
     },
     "output_type": "display_data"
    }
   ],
   "source": [
    "ax = sns.scatterplot(x=\"projects\", y=\"the_number_of_clinics\",hue='country', data=data_scatter)\n",
    "ax.set_title('Зависимость общего числа проектов и количества клиник без США', fontdict={'size':18})\n",
    "plt.xlabel('количество проектов')\n",
    "plt.ylabel('количество клиник')"
   ]
  },
  {
   "cell_type": "markdown",
   "metadata": {},
   "source": [
    "Рассмотрим датасет с ценами платформ:"
   ]
  },
  {
   "cell_type": "code",
   "execution_count": 81,
   "metadata": {},
   "outputs": [
    {
     "data": {
      "text/plain": [
       "(206, 4)"
      ]
     },
     "execution_count": 81,
     "metadata": {},
     "output_type": "execute_result"
    }
   ],
   "source": [
    "data4 = pd.read_csv(\"Fhir4.csv\")\n",
    "data.shape"
   ]
  },
  {
   "cell_type": "code",
   "execution_count": 82,
   "metadata": {},
   "outputs": [
    {
     "data": {
      "text/html": [
       "<div>\n",
       "<style scoped>\n",
       "    .dataframe tbody tr th:only-of-type {\n",
       "        vertical-align: middle;\n",
       "    }\n",
       "\n",
       "    .dataframe tbody tr th {\n",
       "        vertical-align: top;\n",
       "    }\n",
       "\n",
       "    .dataframe thead th {\n",
       "        text-align: right;\n",
       "    }\n",
       "</style>\n",
       "<table border=\"1\" class=\"dataframe\">\n",
       "  <thead>\n",
       "    <tr style=\"text-align: right;\">\n",
       "      <th></th>\n",
       "      <th>platform</th>\n",
       "      <th>Area</th>\n",
       "      <th>price</th>\n",
       "    </tr>\n",
       "  </thead>\n",
       "  <tbody>\n",
       "    <tr>\n",
       "      <th>0</th>\n",
       "      <td>Microsoft Azure Api for FHIR</td>\n",
       "      <td>Southeast Asia</td>\n",
       "      <td>655.17</td>\n",
       "    </tr>\n",
       "    <tr>\n",
       "      <th>1</th>\n",
       "      <td>Microsoft Azure Api for FHIR</td>\n",
       "      <td>West Europe</td>\n",
       "      <td>571.36</td>\n",
       "    </tr>\n",
       "    <tr>\n",
       "      <th>2</th>\n",
       "      <td>Microsoft Azure Api for FHIR</td>\n",
       "      <td>US</td>\n",
       "      <td>571.36</td>\n",
       "    </tr>\n",
       "    <tr>\n",
       "      <th>3</th>\n",
       "      <td>Cloud Healthcare API</td>\n",
       "      <td>US</td>\n",
       "      <td>511.20</td>\n",
       "    </tr>\n",
       "    <tr>\n",
       "      <th>4</th>\n",
       "      <td>Cloud Healthcare API</td>\n",
       "      <td>West Europe</td>\n",
       "      <td>408.90</td>\n",
       "    </tr>\n",
       "    <tr>\n",
       "      <th>5</th>\n",
       "      <td>Cloud Healthcare API</td>\n",
       "      <td>Southeast Asia</td>\n",
       "      <td>408.90</td>\n",
       "    </tr>\n",
       "    <tr>\n",
       "      <th>6</th>\n",
       "      <td>Amazon Comprehend Medical</td>\n",
       "      <td>Southeast Asia</td>\n",
       "      <td>260.00</td>\n",
       "    </tr>\n",
       "    <tr>\n",
       "      <th>7</th>\n",
       "      <td>Amazon Comprehend Medical</td>\n",
       "      <td>West Europe</td>\n",
       "      <td>260.00</td>\n",
       "    </tr>\n",
       "    <tr>\n",
       "      <th>8</th>\n",
       "      <td>Amazon Comprehend Medical</td>\n",
       "      <td>US</td>\n",
       "      <td>260.00</td>\n",
       "    </tr>\n",
       "  </tbody>\n",
       "</table>\n",
       "</div>"
      ],
      "text/plain": [
       "                       platform            Area   price\n",
       "0  Microsoft Azure Api for FHIR  Southeast Asia  655.17\n",
       "1  Microsoft Azure Api for FHIR     West Europe  571.36\n",
       "2  Microsoft Azure Api for FHIR              US  571.36\n",
       "3          Cloud Healthcare API              US  511.20\n",
       "4          Cloud Healthcare API     West Europe  408.90\n",
       "5          Cloud Healthcare API  Southeast Asia  408.90\n",
       "6     Amazon Comprehend Medical  Southeast Asia  260.00\n",
       "7     Amazon Comprehend Medical     West Europe  260.00\n",
       "8     Amazon Comprehend Medical              US  260.00"
      ]
     },
     "execution_count": 82,
     "metadata": {},
     "output_type": "execute_result"
    }
   ],
   "source": [
    "data4"
   ]
  },
  {
   "cell_type": "markdown",
   "metadata": {},
   "source": [
    "Построим график зависимости цены от платформы по областям:"
   ]
  },
  {
   "cell_type": "code",
   "execution_count": 83,
   "metadata": {},
   "outputs": [
    {
     "data": {
      "text/plain": [
       "(array([200., 250., 300., 350., 400., 450., 500., 550., 600., 650., 700.]),\n",
       " <a list of 11 Text yticklabel objects>)"
      ]
     },
     "execution_count": 83,
     "metadata": {},
     "output_type": "execute_result"
    },
    {
     "data": {
      "image/png": "[encoded data removed]",
      "text/plain": [
       "<Figure size 640x480 with 1 Axes>"
      ]
     },
     "metadata": {},
     "output_type": "display_data"
    }
   ],
   "source": [
    "fig, ax = plt.subplots(figsize=(8,6),dpi= 80, facecolor='w', edgecolor='k')\n",
    "ax = sns.scatterplot(x=\"platform\", y=\"price\",hue='Area', data=data4)\n",
    "ax.set_title('Зависимость цен на платформы от областей', fontdict={'size':18})\n",
    "plt.xlabel('платформа')\n",
    "plt.ylabel('цена')\n",
    "plt.xticks(fontsize=12); plt.yticks(fontsize=12)"
   ]
  },
  {
   "cell_type": "markdown",
   "metadata": {},
   "source": [
    "Построим общий график цен платформ по областям:"
   ]
  },
  {
   "cell_type": "code",
   "execution_count": 84,
   "metadata": {},
   "outputs": [],
   "source": [
    "data4US=data4[data4.Area == 'US'].price.values"
   ]
  },
  {
   "cell_type": "code",
   "execution_count": 85,
   "metadata": {},
   "outputs": [],
   "source": [
    "data4Asia=data4[data4.Area == 'Southeast Asia'].price.values"
   ]
  },
  {
   "cell_type": "code",
   "execution_count": 86,
   "metadata": {},
   "outputs": [],
   "source": [
    "data4Europe=data4[data4.Area == 'West Europe'].price.values"
   ]
  },
  {
   "cell_type": "code",
   "execution_count": 87,
   "metadata": {},
   "outputs": [
    {
     "data": {
      "image/png": "[encoded data removed]",
      "text/plain": [
       "<Figure size 720x576 with 1 Axes>"
      ]
     },
     "metadata": {
      "needs_background": "light"
     },
     "output_type": "display_data"
    }
   ],
   "source": [
    "import numpy as np\n",
    "labels = data4.platform.value_counts().index\n",
    "new_labels=[]\n",
    "for i in labels:\n",
    "    new_labels.append(i)\n",
    "\n",
    "    \n",
    "\n",
    "x = np.arange(len(new_labels))  # the label locations\n",
    "width = 0.25  # the width of the bars\n",
    "\n",
    "fig, ax = plt.subplots(figsize=(10,8))\n",
    "rects1 = ax.bar(x-width/2, data4US, width, label='US')\n",
    "rects2 = ax.bar(x+width/2, data4Europe, width, label='West Europe')\n",
    "rects3 = ax.bar(x+width+width/2, data4Asia, width, label='Southeast Asia')\n",
    "\n",
    "ax.set_ylabel('Цена')\n",
    "ax.set_xlabel('Платформа')\n",
    "ax.set_title('Цены на платформы по областям',fontdict={'size':18})\n",
    "ax.set_xticks(x)\n",
    "ax.set_xticklabels(labels,fontsize=12)\n",
    "ax.legend()\n",
    "\n",
    "\n",
    "def autolabel(rects):\n",
    "    for rect in rects:\n",
    "        height = rect.get_height()\n",
    "        ax.annotate('{}'.format(height),\n",
    "                    xy=(rect.get_x() + rect.get_width() / 2, height),\n",
    "                    xytext=(0, 3),  \n",
    "                    textcoords=\"offset points\",\n",
    "                    ha='center', va='bottom')\n",
    "\n",
    "\n",
    "autolabel(rects1)\n",
    "autolabel(rects2)\n",
    "autolabel(rects3)\n",
    "\n",
    "fig.tight_layout()\n",
    "\n",
    "plt.show()"
   ]
  },
  {
   "cell_type": "code",
   "execution_count": null,
   "metadata": {},
   "outputs": [],
   "source": []
  }
 ],
 "metadata": {
  "kernelspec": {
   "display_name": "Python 3",
   "language": "python",
   "name": "python3"
  },
  "language_info": {
   "codemirror_mode": {
    "name": "ipython",
    "version": 3
   },
   "file_extension": ".py",
   "mimetype": "text/x-python",
   "name": "python",
   "nbconvert_exporter": "python",
   "pygments_lexer": "ipython3",
   "version": "3.7.2"
  }
 },
 "nbformat": 4,
 "nbformat_minor": 2
}
